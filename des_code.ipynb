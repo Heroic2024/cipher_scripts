{
 "cells": [
  {
   "cell_type": "code",
   "execution_count": 7,
   "metadata": {},
   "outputs": [],
   "source": [
    "import pycipher as ci\n",
    "import pycipher as py\n",
    "import dis\n",
    "from Crypto.Cipher import DES\n",
    "from Crypto.Util.Padding import pad, unpad"
   ]
  },
  {
   "cell_type": "code",
   "execution_count": 8,
   "metadata": {},
   "outputs": [],
   "source": [
    "def encrypt(plain_text, key):\n",
    "    cipher = DES.new(key, DES.MODE_ECB)\n",
    "    encrypted_text = cipher.encrypt(pad(plain_text.encode(), DES.block_size))\n",
    "    return encrypted_text\n",
    "\n",
    "def decrypt(encrypted_text, key):\n",
    "    cipher = DES.new(key, DES.MODE_ECB)\n",
    "    decrypted_text = unpad(cipher.decrypt(encrypted_text), DES.block_size)\n",
    "    return decrypted_text.decode()"
   ]
  },
  {
   "cell_type": "code",
   "execution_count": 9,
   "metadata": {},
   "outputs": [
    {
     "name": "stdout",
     "output_type": "stream",
     "text": [
      "Plaintext Rushabh is a tart\n",
      "Encrypted: b'L\\x87(\\xc1M.\\x87\\xa4qu\\x98\\xbb,\\xbe\\xc4\\xe5\\xcde\\xfe\\x88xs\\x16\\x90'\n",
      "Decrypted: Rushabh is a tart\n"
     ]
    }
   ],
   "source": [
    "key = b'8bytekey' \n",
    "plain = input(\"Enter the plaintext\")\n",
    "print(\"Plaintext\",plain)\n",
    "cipher = encrypt(plain, key)\n",
    "print(f\"Encrypted: {cipher}\")\n",
    "decryption = decrypt(cipher, key)\n",
    "print(f\"Decrypted: {decryption}\")\n",
    "\n"
   ]
  }
 ],
 "metadata": {
  "kernelspec": {
   "display_name": "Python 3",
   "language": "python",
   "name": "python3"
  },
  "language_info": {
   "codemirror_mode": {
    "name": "ipython",
    "version": 3
   },
   "file_extension": ".py",
   "mimetype": "text/x-python",
   "name": "python",
   "nbconvert_exporter": "python",
   "pygments_lexer": "ipython3",
   "version": "3.13.1"
  }
 },
 "nbformat": 4,
 "nbformat_minor": 2
}
