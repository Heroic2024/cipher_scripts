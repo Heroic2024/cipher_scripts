{
 "cells": [
  {
   "cell_type": "code",
   "execution_count": 65,
   "metadata": {},
   "outputs": [
    {
     "name": "stdout",
     "output_type": "stream",
     "text": [
      "1.13.3\n"
     ]
    }
   ],
   "source": [
    "import sympy\n",
    "print(sympy.__version__)"
   ]
  },
  {
   "cell_type": "code",
   "execution_count": 66,
   "metadata": {},
   "outputs": [
    {
     "name": "stdout",
     "output_type": "stream",
     "text": [
      "Plaintext:  45\n"
     ]
    }
   ],
   "source": [
    "p = 23\n",
    "q = 7\n",
    "n = p * q\n",
    "\n",
    "private_key = n\n",
    "public_key1 = p\n",
    "public_key2 = q\n",
    "\n",
    "pl_text = 45\n",
    "print(\"Plaintext: \", pl_text)\n"
   ]
  },
  {
   "cell_type": "code",
   "execution_count": 67,
   "metadata": {},
   "outputs": [],
   "source": [
    "def find_a_b(p,q):\n",
    "    _,a,b = sympy.gcdex(p,q)\n",
    "    return a,b\n",
    "\n"
   ]
  },
  {
   "cell_type": "code",
   "execution_count": 68,
   "metadata": {},
   "outputs": [],
   "source": [
    "def checkCondition(public_key1, public_key2):\n",
    "    if public_key1 % 4 == 3 and public_key2 % 4 == 3:\n",
    "        return True\n",
    "    else:\n",
    "        return False"
   ]
  },
  {
   "cell_type": "code",
   "execution_count": 69,
   "metadata": {},
   "outputs": [],
   "source": [
    "def Encryption(plain_text, private_key):\n",
    "    cipher_text = ((plain_text ** 2) % private_key)\n",
    "    return cipher_text\n",
    "\n"
   ]
  },
  {
   "cell_type": "code",
   "execution_count": null,
   "metadata": {},
   "outputs": [
    {
     "name": "stdout",
     "output_type": "stream",
     "text": [
      "10 1\n"
     ]
    }
   ],
   "source": [
    "a,b = find_a_b(public_key1,public_key2)\n",
    "\n",
    "print(a,b)\n",
    "\n",
    "def Decryption(c, private_key, public_key1,public_key2,a,b):\n",
    "    r = pow(c, (public_key1+1)//4, public_key1)\n",
    "    s = pow(c, (public_key2+1)//4, public_key2)\n",
    "    x = ((a*public_key1*s) + (b*public_key2*r)) % private_key\n",
    "    y = ((a*public_key1*s )- (b*public_key2*r)) % private_key\n",
    "\n",
    "    m1 = bin(x)\n",
    "    m1 = m1[2:]  \n",
    "\n",
    "    m2 = bin(y)\n",
    "    m2 = m2[2:]\n",
    "\n",
    "    m3 = bin(n - x)\n",
    "    m3 = m3[2:]\n",
    "\n",
    "    m4 = bin(n - y)\n",
    "    m4 = m4[2:]\n",
    "    \n",
    "    print(\"m1: \", m1)\n",
    "    print(\"m2: \", m2)\n",
    "    print(\"m3: \", m3)\n",
    "    print(\"m4: \", m4)\n",
    "    \n",
    "    if(m1 == m1[::-1]):\n",
    "        print(\"m1: \", m1)\n",
    "    elif(m2 == m2[::-1]):\n",
    "        print(\"m2: \", m2)\n",
    "    elif(m3 == m3[::-1]):\n",
    "        print(\"m3: \", m3)\n",
    "    elif(m4 == m4[::-1]):\n",
    "        print(\"m4: \", m4)\n",
    "    else:\n",
    "        print(\"None\")"
   ]
  },
  {
   "cell_type": "code",
   "execution_count": 71,
   "metadata": {},
   "outputs": [],
   "source": [
    "'''r = pow(93, (public_key1+1)//4, public_key1)\n",
    "s = pow(93, (public_key2+1)//4, public_key2)\n",
    "x = ((a*public_key1*s) + (b*public_key2*r)) % private_key\n",
    "y = ((a*public_key1*s )- (b*public_key2*r)) % private_key\n",
    "\n",
    "m1 = bin(x)\n",
    "print(m1)\n",
    "print(m1[2::-1])\n",
    "m2 = bin(-x)\n",
    "print(m2[2::])\n",
    "print(m2)\n",
    "m3 = bin(y)\n",
    "print(m3)\n",
    "m4 = bin(-y)\n",
    "print(m4)'''\n",
    "\n",
    "if(m1 == m1[::-1]):\n",
    "    print(m1)"
   ]
  },
  {
   "cell_type": "code",
   "execution_count": 72,
   "metadata": {},
   "outputs": [
    {
     "name": "stdout",
     "output_type": "stream",
     "text": [
      "Condition Satisfied\n",
      "Encryption:  93\n",
      "m1:  0b1111010\n",
      "m2:  0b1101100\n",
      "m3:  0b100111\n",
      "m4:  0b110101\n",
      "None\n",
      "None "
     ]
    }
   ],
   "source": [
    "if (checkCondition(public_key1, public_key2)):\n",
    "    print(\"Condition Satisfied\")\n",
    "    Encryption_text = Encryption(pl_text, private_key)\n",
    "    print(\"Encryption: \", Encryption_text)\n",
    "\n",
    "print(Decryption(Encryption_text, private_key, public_key1, public_key2,a,b), end = \" \")\n",
    "\n",
    "\n"
   ]
  },
  {
   "cell_type": "code",
   "execution_count": null,
   "metadata": {},
   "outputs": [],
   "source": [
    "#Accepting value of C from sender\n",
    "\n",
    "\n"
   ]
  }
 ],
 "metadata": {
  "kernelspec": {
   "display_name": "Python 3",
   "language": "python",
   "name": "python3"
  },
  "language_info": {
   "codemirror_mode": {
    "name": "ipython",
    "version": 3
   },
   "file_extension": ".py",
   "mimetype": "text/x-python",
   "name": "python",
   "nbconvert_exporter": "python",
   "pygments_lexer": "ipython3",
   "version": "3.13.1"
  }
 },
 "nbformat": 4,
 "nbformat_minor": 2
}
