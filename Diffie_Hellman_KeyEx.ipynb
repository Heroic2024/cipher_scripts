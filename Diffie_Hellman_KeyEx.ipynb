{
 "cells": [
  {
   "cell_type": "code",
   "execution_count": 2,
   "metadata": {},
   "outputs": [],
   "source": [
    "import math as m"
   ]
  },
  {
   "cell_type": "code",
   "execution_count": 10,
   "metadata": {},
   "outputs": [],
   "source": [
    "#function to check if number is Prime \n",
    "def checkPrime(p):\n",
    "    for i in range (2, p+1):\n",
    "        if(p % i == 0):\n",
    "            return False\n",
    "        else:\n",
    "            return True\n",
    "    else:\n",
    "        print(\"not valid\")\n"
   ]
  },
  {
   "cell_type": "code",
   "execution_count": null,
   "metadata": {},
   "outputs": [
    {
     "data": {
      "text/plain": [
       "True"
      ]
     },
     "execution_count": 3,
     "metadata": {},
     "output_type": "execute_result"
    }
   ],
   "source": [
    "#function to check if any of the roots are repeating\n",
    "def checkCount(num, lst):\n",
    "    count = 0\n",
    "    for i in lst:\n",
    "        if i == num:\n",
    "            count += 1\n",
    "    \n",
    "    return count > 1\n"
   ]
  },
  {
   "cell_type": "code",
   "execution_count": null,
   "metadata": {},
   "outputs": [
    {
     "name": "stdout",
     "output_type": "stream",
     "text": [
      "6 is a primitive root of 9\n"
     ]
    }
   ],
   "source": [
    "#to check if g is a primitive root of p\n",
    "def checkPrimitive(g,p):\n",
    "    lst = []\n",
    "    for i in range(1,p-1):\n",
    "        res = pow(g,i,p) \n",
    "        lst.append(res)\n",
    "        if(res > p-1 or checkCount(res,lst)):\n",
    "            print(g,\"is not a primitive root of\",p)\n",
    "            break\n",
    "        else:\n",
    "            print(g,\"is a primitive root of\",p)\n",
    "            break\n",
    "               "
   ]
  },
  {
   "cell_type": "code",
   "execution_count": 12,
   "metadata": {},
   "outputs": [
    {
     "name": "stdout",
     "output_type": "stream",
     "text": [
      "a=  12\n",
      "b=  13\n",
      "p=  2\n",
      "g=  7\n"
     ]
    }
   ],
   "source": [
    "p =int(input(\"Enter a prime number: \"))\n",
    "checkPrime(p)\n",
    "g = int(input(\"Enter a base: \"))\n",
    "checkPrimitive(g,p)\n",
    "a = int(input(\"Enter a: \"))\n",
    "b = int(input(\"Enter b: \"))\n",
    "\n",
    "print(\"a= \",a)\n",
    "print(\"b= \",b)\n",
    "print(\"p= \",p)\n",
    "print(\"g= \",g)"
   ]
  },
  {
   "cell_type": "code",
   "execution_count": 13,
   "metadata": {},
   "outputs": [],
   "source": [
    "def calc(g,pk,p):\n",
    "    return pow(g,pk,p)"
   ]
  },
  {
   "cell_type": "code",
   "execution_count": 14,
   "metadata": {},
   "outputs": [
    {
     "name": "stdout",
     "output_type": "stream",
     "text": [
      "g^a mod p =  1\n",
      "g^b mod p =  1\n"
     ]
    }
   ],
   "source": [
    "\n",
    "gamodp = calc(g,a,p)\n",
    "gbmodp = calc(g,b,p)\n",
    "\n",
    "print(\"g^a mod p = \",gamodp)\n",
    "print(\"g^b mod p = \",gbmodp)"
   ]
  },
  {
   "cell_type": "code",
   "execution_count": 15,
   "metadata": {},
   "outputs": [
    {
     "name": "stdout",
     "output_type": "stream",
     "text": [
      "Alice's shared key =  1\n",
      "Bob's shared key =  1\n"
     ]
    }
   ],
   "source": [
    "a_shared = calc(gbmodp,a,p)\n",
    "b_shared = calc(gamodp,b,p)\n",
    "\n",
    "print(\"Alice's shared key = \",a_shared)\n",
    "print(\"Bob's shared key = \",b_shared)"
   ]
  }
 ],
 "metadata": {
  "kernelspec": {
   "display_name": "Python 3",
   "language": "python",
   "name": "python3"
  },
  "language_info": {
   "codemirror_mode": {
    "name": "ipython",
    "version": 3
   },
   "file_extension": ".py",
   "mimetype": "text/x-python",
   "name": "python",
   "nbconvert_exporter": "python",
   "pygments_lexer": "ipython3",
   "version": "3.13.1"
  }
 },
 "nbformat": 4,
 "nbformat_minor": 2
}
