{
 "cells": [
  {
   "cell_type": "code",
   "execution_count": 15,
   "metadata": {},
   "outputs": [],
   "source": [
    "import math"
   ]
  },
  {
   "cell_type": "code",
   "execution_count": null,
   "metadata": {},
   "outputs": [],
   "source": [
    "#Function check if the number is prime or not\n",
    "def isPrime(num):\n",
    "    for i in range(2 , num+1):\n",
    "        if(num % i == 0):\n",
    "            return False\n",
    "        else:\n",
    "     \n",
    "            return True\n",
    "        \n"
   ]
  },
  {
   "cell_type": "markdown",
   "metadata": {},
   "source": [
    "find d such that\n",
    "psi is divisible by ed - 1\n"
   ]
  },
  {
   "cell_type": "code",
   "execution_count": null,
   "metadata": {},
   "outputs": [],
   "source": [
    "#function to calculate the value of Psi\n",
    "def calcPsi(p,q):\n",
    "    return (p-1)*(q-1)\n",
    "\n",
    "#function to calculate the value of n\n",
    "def calcN(p,q):\n",
    "    return p*q\n",
    "\n",
    "#function to calculate if the value of e lies in the valid range\n",
    "def checkRangeforE(psi, e):\n",
    "    if(1 < e < psi):\n",
    "        return True\n",
    "    else:\n",
    "        return False"
   ]
  },
  {
   "cell_type": "code",
   "execution_count": null,
   "metadata": {},
   "outputs": [],
   "source": [
    "#function to check if the value of e is coprime with psi\n",
    "def checkforE(psi,p,q,e):\n",
    "    for i in range(3,psi,2):\n",
    "        if(2<e<psi):\n",
    "            if(math.gcd(i,psi) == 1 and math.gcd(i,p) == 1 and math.gcd(i,q) == 1):\n",
    "                return i\n",
    "                break"
   ]
  },
  {
   "cell_type": "code",
   "execution_count": null,
   "metadata": {},
   "outputs": [],
   "source": [
    "#function to check if the gcd for a and b is 1\n",
    "def GCD(a,b):\n",
    "    return math.gcd(a,b) == 1   "
   ]
  },
  {
   "cell_type": "code",
   "execution_count": null,
   "metadata": {},
   "outputs": [],
   "source": [
    "#calculating the value of d\n",
    "def calcD(e,psi):\n",
    "    for d in range(1,psi):\n",
    "        if(((e*d) - 1)  % psi == 0):\n",
    "            return d\n",
    "            break"
   ]
  },
  {
   "cell_type": "code",
   "execution_count": null,
   "metadata": {},
   "outputs": [],
   "source": [
    "#Encryption\n",
    "def encrypt(pl_text,e,n):\n",
    "    enc =[]\n",
    "    for i in range(0,len(pl_text)):\n",
    "        m = ord(pl_text[i]) - ord('A')\n",
    "        res = pow(m,e) % n\n",
    "        enc.append(res)\n",
    "    return enc\n"
   ]
  },
  {
   "cell_type": "code",
   "execution_count": null,
   "metadata": {},
   "outputs": [],
   "source": [
    "#DEcryption\n",
    "def decrypt(c_text,d,n):\n",
    "    dec = \"\"\n",
    "    for i in c_text:\n",
    "        res = pow(i,d) % n\n",
    "        dec += chr(res + ord('A'))\n",
    "    return dec"
   ]
  },
  {
   "cell_type": "markdown",
   "metadata": {},
   "source": [
    "Testing"
   ]
  },
  {
   "cell_type": "code",
   "execution_count": 35,
   "metadata": {},
   "outputs": [
    {
     "name": "stdout",
     "output_type": "stream",
     "text": [
      "this is n:  33\n",
      "this is psi: 20\n",
      "this is e:  7\n",
      "this is d: 3\n",
      "True\n",
      "True\n",
      "True\n"
     ]
    }
   ],
   "source": [
    "p = int(input(\"Enter a prime number: \"))\n",
    "q = int(input(\"Enter another prime number:\"))\n",
    "n = calcN(p,q)\n",
    "print(\"this is n: \",n)\n",
    "\n",
    "psi = calcPsi(p,q)\n",
    "print(\"this is psi:\",psi)\n",
    "\n",
    "e = checkforE(psi,p,q,3)\n",
    "print(\"this is e: \", e)\n",
    "\n",
    "d = calcD(e,psi)\n",
    "print(\"this is d:\",d)\n",
    "\n",
    "print(GCD(e,psi))\n",
    "print(GCD(e,p-1))\n",
    "print(GCD(e,q-1))"
   ]
  },
  {
   "cell_type": "code",
   "execution_count": 36,
   "metadata": {},
   "outputs": [
    {
     "name": "stdout",
     "output_type": "stream",
     "text": [
      "Public Key:  7 33\n",
      "Private Key:  3 33\n"
     ]
    }
   ],
   "source": [
    "#private key and public key\n",
    "print(\"Public Key: \", e, n)\n",
    "print(\"Private Key: \", d, n)"
   ]
  },
  {
   "cell_type": "code",
   "execution_count": 37,
   "metadata": {},
   "outputs": [
    {
     "name": "stdout",
     "output_type": "stream",
     "text": [
      "Plaintext:  WOOOOHOOOO\n",
      "encrypted text:  [22, 20, 20, 20, 20, 28, 20, 20, 20, 20]\n",
      "decrypted text:  WOOOOHOOOO\n"
     ]
    }
   ],
   "source": [
    "plaintext = \"WOOOOHOOOO\".upper()\n",
    "print(\"Plaintext: \", plaintext)\n",
    "\n",
    "cipher = encrypt(plaintext,e,n)\n",
    "print(\"encrypted text: \",cipher)\n",
    "\n",
    "decryptedtext = decrypt(cipher,d,n)\n",
    "print(\"decrypted text: \",decryptedtext)\n"
   ]
  }
 ],
 "metadata": {
  "kernelspec": {
   "display_name": "Python 3",
   "language": "python",
   "name": "python3"
  },
  "language_info": {
   "codemirror_mode": {
    "name": "ipython",
    "version": 3
   },
   "file_extension": ".py",
   "mimetype": "text/x-python",
   "name": "python",
   "nbconvert_exporter": "python",
   "pygments_lexer": "ipython3",
   "version": "3.13.1"
  }
 },
 "nbformat": 4,
 "nbformat_minor": 2
}
