{
 "cells": [
  {
   "cell_type": "code",
   "execution_count": 47,
   "metadata": {},
   "outputs": [],
   "source": [
    "#choosing a large prime number and gnerator\n",
    "p = 23\n",
    "g = 5\n",
    "#choosing a private key\n",
    "private_key = 6"
   ]
  },
  {
   "cell_type": "code",
   "execution_count": 48,
   "metadata": {},
   "outputs": [],
   "source": [
    "#Function to check if g is a primitive root of p\n",
    "def checkPrimitive(g,p):\n",
    "    for i in range(1,p-1):\n",
    "        res = pow(g,i,p) #g^i mod p\n",
    "        if(res > p-1):\n",
    "            print(g,\"is not a primitive root of\",p)\n",
    "            break\n",
    "        else:\n",
    "            print(g,\"is a primitive root of\",p)\n",
    "            break\n",
    "               "
   ]
  },
  {
   "cell_type": "code",
   "execution_count": 49,
   "metadata": {},
   "outputs": [
    {
     "name": "stdout",
     "output_type": "stream",
     "text": [
      "5 is a primitive root of 23\n",
      "None\n",
      "Public key is 8\n"
     ]
    }
   ],
   "source": [
    "#checking if g is a primitive root of p\n",
    "print(checkPrimitive(g,p))\n",
    "\n",
    "if(1<private_key<p-1):\n",
    "    #calculating public key\n",
    "    public_key = pow(g,private_key,p)\n",
    "    print(\"Public key is\",public_key)"
   ]
  },
  {
   "cell_type": "code",
   "execution_count": 50,
   "metadata": {},
   "outputs": [
    {
     "name": "stdout",
     "output_type": "stream",
     "text": [
      "6\n",
      "Encrypted message is 10 & 14\n"
     ]
    }
   ],
   "source": [
    "#ENCRYTPION\n",
    "\n",
    "#choosing a message\n",
    "m = 10\n",
    "#choosing a random integer k (ephermal key)\n",
    "k = 3\n",
    "c1 = pow(g,k,p)\n",
    "c2_initial = pow(public_key,k,p)\n",
    "\n",
    "print(c2_initial)\n",
    "\n",
    "c2 = pow(pow(c2_initial,1,p)*m,1,p)\n",
    "\n",
    "print(\"Encrypted message is\",c1,\"&\",c2)"
   ]
  },
  {
   "cell_type": "code",
   "execution_count": 52,
   "metadata": {},
   "outputs": [
    {
     "name": "stdout",
     "output_type": "stream",
     "text": [
      "Decrypted message is 10\n"
     ]
    }
   ],
   "source": [
    "#DECRYPTION\n",
    "\n",
    "#finding S\n",
    "S = pow(c1,private_key,p)\n",
    "\n",
    "#Finding S inverse\n",
    "s_inv = pow(S,-1,p)\n",
    "\n",
    "m = pow(c2*s_inv,1,p)\n",
    "\n",
    "print(\"Decrypted message is\",m)"
   ]
  }
 ],
 "metadata": {
  "kernelspec": {
   "display_name": "Python 3",
   "language": "python",
   "name": "python3"
  },
  "language_info": {
   "codemirror_mode": {
    "name": "ipython",
    "version": 3
   },
   "file_extension": ".py",
   "mimetype": "text/x-python",
   "name": "python",
   "nbconvert_exporter": "python",
   "pygments_lexer": "ipython3",
   "version": "3.13.1"
  }
 },
 "nbformat": 4,
 "nbformat_minor": 2
}
